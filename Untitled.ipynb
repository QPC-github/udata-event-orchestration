{
 "cells": [
  {
   "cell_type": "code",
   "execution_count": 1,
   "id": "74a7d5ab",
   "metadata": {},
   "outputs": [
    {
     "name": "stdout",
     "output_type": "stream",
     "text": [
      "Dockerfile.analysis.consumer export-resource.csv\r\n",
      "Dockerfile.analysis.worker   \u001b[31minit.sh\u001b[m\u001b[m\r\n",
      "Dockerfile.datalake.consumer \u001b[34mminio-data\u001b[m\u001b[m\r\n",
      "Dockerfile.datalake.worker   simulatedResourceEvent.py\r\n",
      "README.md                    \u001b[34mudata-analysis-service\u001b[m\u001b[m\r\n",
      "Untitled.ipynb               \u001b[34mudata-datalake-service\u001b[m\u001b[m\r\n",
      "docker-compose.yml\r\n"
     ]
    }
   ],
   "source": [
    "!ls"
   ]
  },
  {
   "cell_type": "code",
   "execution_count": 2,
   "id": "8a127bdb",
   "metadata": {},
   "outputs": [],
   "source": [
    "import pandas as pd"
   ]
  },
  {
   "cell_type": "code",
   "execution_count": 4,
   "id": "56cfbc29",
   "metadata": {},
   "outputs": [],
   "source": [
    "df = pd.read_csv('export-resource.csv', dtype=str, sep=\";\")"
   ]
  },
  {
   "cell_type": "code",
   "execution_count": 7,
   "id": "cf1fd5cd",
   "metadata": {},
   "outputs": [
    {
     "data": {
      "text/html": [
       "<div>\n",
       "<style scoped>\n",
       "    .dataframe tbody tr th:only-of-type {\n",
       "        vertical-align: middle;\n",
       "    }\n",
       "\n",
       "    .dataframe tbody tr th {\n",
       "        vertical-align: top;\n",
       "    }\n",
       "\n",
       "    .dataframe thead th {\n",
       "        text-align: right;\n",
       "    }\n",
       "</style>\n",
       "<table border=\"1\" class=\"dataframe\">\n",
       "  <thead>\n",
       "    <tr style=\"text-align: right;\">\n",
       "      <th></th>\n",
       "      <th>dataset.id</th>\n",
       "      <th>dataset.title</th>\n",
       "      <th>dataset.slug</th>\n",
       "      <th>dataset.url</th>\n",
       "      <th>dataset.organization</th>\n",
       "      <th>dataset.organization_id</th>\n",
       "      <th>dataset.license</th>\n",
       "      <th>dataset.private</th>\n",
       "      <th>id</th>\n",
       "      <th>url</th>\n",
       "      <th>...</th>\n",
       "      <th>description</th>\n",
       "      <th>filetype</th>\n",
       "      <th>format</th>\n",
       "      <th>mime</th>\n",
       "      <th>filesize</th>\n",
       "      <th>checksum.type</th>\n",
       "      <th>checksum.value</th>\n",
       "      <th>created_at</th>\n",
       "      <th>modified</th>\n",
       "      <th>downloads</th>\n",
       "    </tr>\n",
       "  </thead>\n",
       "  <tbody>\n",
       "    <tr>\n",
       "      <th>0</th>\n",
       "      <td>629458429705c431a897c96c</td>\n",
       "      <td>IRVE Hotel Kieffer Itterswiller</td>\n",
       "      <td>irve-hotel-kieffer-itterswiller</td>\n",
       "      <td>http://www.data.gouv.fr/fr/datasets/irve-hotel...</td>\n",
       "      <td>NaN</td>\n",
       "      <td>NaN</td>\n",
       "      <td>License Not Specified</td>\n",
       "      <td>False</td>\n",
       "      <td>8c8df2f0-7f35-4092-9a4d-74a2708bf6b8</td>\n",
       "      <td>https://static.data.gouv.fr/resources/irve-hot...</td>\n",
       "      <td>...</td>\n",
       "      <td>NaN</td>\n",
       "      <td>file</td>\n",
       "      <td>csv</td>\n",
       "      <td>text/csv</td>\n",
       "      <td>1337</td>\n",
       "      <td>sha1</td>\n",
       "      <td>6dfab10587577d45a289208e9028517b6dc4df9c</td>\n",
       "      <td>2022-05-30T07:38:14.228000</td>\n",
       "      <td>2022-05-30T07:38:16.177000</td>\n",
       "      <td>0</td>\n",
       "    </tr>\n",
       "  </tbody>\n",
       "</table>\n",
       "<p>1 rows × 21 columns</p>\n",
       "</div>"
      ],
      "text/plain": [
       "                 dataset.id                    dataset.title  \\\n",
       "0  629458429705c431a897c96c  IRVE Hotel Kieffer Itterswiller   \n",
       "\n",
       "                      dataset.slug  \\\n",
       "0  irve-hotel-kieffer-itterswiller   \n",
       "\n",
       "                                         dataset.url dataset.organization  \\\n",
       "0  http://www.data.gouv.fr/fr/datasets/irve-hotel...                  NaN   \n",
       "\n",
       "  dataset.organization_id        dataset.license dataset.private  \\\n",
       "0                     NaN  License Not Specified           False   \n",
       "\n",
       "                                     id  \\\n",
       "0  8c8df2f0-7f35-4092-9a4d-74a2708bf6b8   \n",
       "\n",
       "                                                 url  ... description  \\\n",
       "0  https://static.data.gouv.fr/resources/irve-hot...  ...         NaN   \n",
       "\n",
       "  filetype format      mime filesize checksum.type  \\\n",
       "0     file    csv  text/csv     1337          sha1   \n",
       "\n",
       "                             checksum.value                  created_at  \\\n",
       "0  6dfab10587577d45a289208e9028517b6dc4df9c  2022-05-30T07:38:14.228000   \n",
       "\n",
       "                     modified downloads  \n",
       "0  2022-05-30T07:38:16.177000         0  \n",
       "\n",
       "[1 rows x 21 columns]"
      ]
     },
     "execution_count": 7,
     "metadata": {},
     "output_type": "execute_result"
    }
   ],
   "source": [
    "df[df['dataset.id'].isin(['629458429705c431a897c96c', '629458429705c431a897c9c'])]"
   ]
  },
  {
   "cell_type": "code",
   "execution_count": 8,
   "id": "8a4bacc3",
   "metadata": {},
   "outputs": [],
   "source": [
    "datasets = ['60190d00a7273a8100dd4d38', '5448d3e0c751df01f85d0572', '5e9dbdbe71589194c8f7b42f', '58c984b088ee386cdb1261f3', '61a73dcfe3171089843587bf']"
   ]
  },
  {
   "cell_type": "code",
   "execution_count": 10,
   "id": "083f263d",
   "metadata": {},
   "outputs": [],
   "source": [
    "df[df['dataset.id'].isin(datasets)].to_csv('short.csv',index=False)"
   ]
  },
  {
   "cell_type": "code",
   "execution_count": null,
   "id": "128ed8ce",
   "metadata": {},
   "outputs": [],
   "source": []
  }
 ],
 "metadata": {
  "kernelspec": {
   "display_name": "Python 3 (ipykernel)",
   "language": "python",
   "name": "python3"
  },
  "language_info": {
   "codemirror_mode": {
    "name": "ipython",
    "version": 3
   },
   "file_extension": ".py",
   "mimetype": "text/x-python",
   "name": "python",
   "nbconvert_exporter": "python",
   "pygments_lexer": "ipython3",
   "version": "3.8.12"
  }
 },
 "nbformat": 4,
 "nbformat_minor": 5
}
